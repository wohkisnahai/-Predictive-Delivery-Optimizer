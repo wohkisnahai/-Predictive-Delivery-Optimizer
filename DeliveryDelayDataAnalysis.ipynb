{
 "cells": [
  {
   "cell_type": "code",
   "execution_count": 1,
   "id": "1bb12986-e065-46e1-b584-b581e2077072",
   "metadata": {},
   "outputs": [],
   "source": [
    "import pandas as pd\n",
    "import altair as alt\n",
    "\n",
    "pd.set_option('display.max_columns', 50)\n",
    "pd.set_option('display.width', 1000)"
   ]
  },
  {
   "cell_type": "code",
   "execution_count": 146,
   "id": "81e56207-e305-4c48-92e0-830c23f7c8d8",
   "metadata": {},
   "outputs": [],
   "source": [
    "cost_breakdown_df = pd.read_csv(\"cost_breakdown.csv\")\n",
    "customer_feedback_df = pd.read_csv(\"customer_feedback.csv\")\n",
    "delivery_performance_df = pd.read_csv(\"delivery_performance.csv\")\n",
    "orders_df = pd.read_csv(\"orders.csv\", keep_default_na=False)\n",
    "routes_distance_df = pd.read_csv(\"routes_distance.csv\", keep_default_na=False)\n",
    "vehicle_fleet_df = pd.read_csv(\"vehicle_fleet.csv\")\n",
    "warehouse_inventory_df = pd.read_csv(\"warehouse_inventory.csv\")"
   ]
  },
  {
   "cell_type": "code",
   "execution_count": 93,
   "id": "a6494e4f-0528-4da9-960f-c01fc3d738b6",
   "metadata": {},
   "outputs": [
    {
     "name": "stdout",
     "output_type": "stream",
     "text": [
      "Duplicates in orders_df: 0\n",
      "Duplicates in delivery_performance_df: 0\n"
     ]
    }
   ],
   "source": [
    "print(f\"Duplicates in orders_df: {orders_df['Order_ID'].duplicated().sum()}\")\n",
    "print(f\"Duplicates in delivery_performance_df: {delivery_performance_df['Order_ID'].duplicated().sum()}\")"
   ]
  },
  {
   "cell_type": "code",
   "execution_count": 95,
   "id": "3e06bbf4-42c7-4a1f-9692-8f162cc5fff0",
   "metadata": {},
   "outputs": [
    {
     "name": "stdout",
     "output_type": "stream",
     "text": [
      "Converted 'Order_Date', 'Last_Restocked_Date', and 'Feedback_Date' to datetime objects.\n",
      "Order_Date type: datetime64[ns]\n"
     ]
    }
   ],
   "source": [
    "try:\n",
    "    orders_df['Order_Date'] = pd.to_datetime(orders_df['Order_Date'])\n",
    "    warehouse_inventory_df['Last_Restocked_Date'] = pd.to_datetime(warehouse_inventory_df['Last_Restocked_Date'])\n",
    "    customer_feedback_df['Feedback_Date'] = pd.to_datetime(customer_feedback_df['Feedback_Date'])\n",
    "    print(\"Converted 'Order_Date', 'Last_Restocked_Date', and 'Feedback_Date' to datetime objects.\")\n",
    "    print(f\"Order_Date type: {orders_df['Order_Date'].dtype}\")\n",
    "except Exception as e:\n",
    "    print(f\"Error converting dates: {e}\")"
   ]
  },
  {
   "cell_type": "code",
   "execution_count": 98,
   "id": "aadbd911-fad0-42c1-a3dd-d4c139dfc957",
   "metadata": {},
   "outputs": [
    {
     "name": "stdout",
     "output_type": "stream",
     "text": [
      "Missing values in orders_df:\n",
      " Special_Handling    153\n",
      "dtype: int64\n",
      "\n",
      "Missing values in delivery_performance_df:\n",
      " Series([], dtype: int64)\n",
      "\n",
      "Missing values in routes_distance_df:\n",
      " Series([], dtype: int64)\n",
      "\n",
      "Missing values in warehouse_inventory_df:\n",
      " Series([], dtype: int64)\n",
      "\n",
      "(No output here means no missing values were found in these files.)\n"
     ]
    }
   ],
   "source": [
    "print(\"Missing values in orders_df:\\n\", orders_df.isnull().sum().loc[lambda x: x > 0])\n",
    "print(\"\\nMissing values in delivery_performance_df:\\n\", delivery_performance_df.isnull().sum().loc[lambda x: x > 0])\n",
    "print(\"\\nMissing values in routes_distance_df:\\n\", routes_distance_df.isnull().sum().loc[lambda x: x > 0])\n",
    "print(\"\\nMissing values in warehouse_inventory_df:\\n\", warehouse_inventory_df.isnull().sum().loc[lambda x: x > 0])\n",
    "print(\"\\n(No output here means no missing values were found in these files.)\")"
   ]
  },
  {
   "cell_type": "code",
   "execution_count": 147,
   "id": "80d2a39c-bdbd-40e6-80ef-8f29fd51575b",
   "metadata": {},
   "outputs": [
    {
     "name": "stdout",
     "output_type": "stream",
     "text": [
      "Renaming 'None' values\n",
      "Replaced 'None' with 'Normal Handling' in 'Special_Handling'.\n",
      "Replaced 'None' with 'Normal Weather' in 'Weather_Impact'.\n"
     ]
    }
   ],
   "source": [
    "print(\"Renaming 'None' values\")\n",
    "try:\n",
    "    # For Special_Handling\n",
    "    orders_df['Special_Handling'] = orders_df['Special_Handling'].replace('None', 'Normal Handling')\n",
    "    print(\"Replaced 'None' with 'Normal Handling' in 'Special_Handling'.\")\n",
    "    \n",
    "    # For Weather_Impact\n",
    "    routes_distance_df['Weather_Impact'] = routes_distance_df['Weather_Impact'].replace('None', 'Normal Weather')\n",
    "    print(\"Replaced 'None' with 'Normal Weather' in 'Weather_Impact'.\")\n",
    "\n",
    "except Exception as e:\n",
    "    print(f\"Error during renaming: {e}\")"
   ]
  },
  {
   "cell_type": "code",
   "execution_count": 148,
   "id": "c013dfd4-c1b6-406f-b0fc-9acd4e04cf8a",
   "metadata": {},
   "outputs": [
    {
     "name": "stdout",
     "output_type": "stream",
     "text": [
      "Checking for Outliers\n",
      "\n",
      "Order Value (orders_df):\n",
      "count      200.000000\n",
      "mean      1850.403000\n",
      "std       4592.326209\n",
      "min          1.910000\n",
      "25%        150.040000\n",
      "50%        500.855000\n",
      "75%       1371.282500\n",
      "max      47177.070000\n",
      "Name: Order_Value_INR, dtype: float64\n",
      "\n",
      "Delivery Days (delivery_performance_df):\n",
      "       Promised_Delivery_Days  Actual_Delivery_Days\n",
      "count              150.000000            150.000000\n",
      "mean                 4.433333              5.513333\n",
      "std                  2.630275              3.231009\n",
      "min                  1.000000              1.000000\n",
      "25%                  2.250000              3.000000\n",
      "50%                  4.000000              5.000000\n",
      "75%                  5.000000              7.000000\n",
      "max                 10.000000             15.000000\n",
      "\n",
      "Route Info (routes_distance_df):\n",
      "       Distance_KM  Fuel_Consumption_L  Toll_Charges_INR  Traffic_Delay_Minutes\n",
      "count   150.000000          150.000000        150.000000             150.000000\n",
      "mean   2003.681667          240.574000        478.541467              34.233333\n",
      "std    1356.533965          162.633791        519.119773              39.860734\n",
      "min     115.370000           12.410000          0.000000               0.000000\n",
      "25%     933.277500          115.035000          0.000000               0.000000\n",
      "50%    1627.840000          198.120000        246.770000              16.000000\n",
      "75%    3057.557500          370.477500        969.065000              67.000000\n",
      "max    4943.430000          593.910000       1430.830000             118.000000\n"
     ]
    }
   ],
   "source": [
    "print(\"Checking for Outliers\")\n",
    "print(\"\\nOrder Value (orders_df):\")\n",
    "print(orders_df['Order_Value_INR'].describe())\n",
    "\n",
    "print(\"\\nDelivery Days (delivery_performance_df):\")\n",
    "print(delivery_performance_df[['Promised_Delivery_Days', 'Actual_Delivery_Days']].describe())\n",
    "\n",
    "print(\"\\nRoute Info (routes_distance_df):\")\n",
    "print(routes_distance_df[['Distance_KM', 'Fuel_Consumption_L', 'Toll_Charges_INR', 'Traffic_Delay_Minutes']].describe())\n"
   ]
  },
  {
   "cell_type": "code",
   "execution_count": 149,
   "id": "e98ddad0-35fa-4090-9c20-421ce8a3d9be",
   "metadata": {},
   "outputs": [
    {
     "name": "stdout",
     "output_type": "stream",
     "text": [
      "Checking for Categorical Anomalies\n",
      "\n",
      "Special Handling (orders_df):\n",
      "Special_Handling\n",
      "Normal Handling           153\n",
      "Fragile                    23\n",
      "Temperature_Controlled     13\n",
      "Hazmat                     11\n",
      "Name: count, dtype: int64\n",
      "\n",
      "Priority (orders_df):\n",
      "Priority\n",
      "Standard    84\n",
      "Economy     70\n",
      "Express     46\n",
      "Name: count, dtype: int64\n",
      "\n",
      "Carrier (delivery_performance_df):\n",
      "Carrier\n",
      "SpeedyLogistics    41\n",
      "ReliableExpress    40\n",
      "QuickShip          31\n",
      "GlobalTransit      22\n",
      "EcoDeliver         16\n",
      "Name: count, dtype: int64\n",
      "\n",
      "Weather Impact (routes_distance_df):\n",
      "Weather_Impact\n",
      "Normal Weather    106\n",
      "Light_Rain         24\n",
      "Heavy_Rain         14\n",
      "Fog                 6\n",
      "Name: count, dtype: int64\n",
      "Data Cleaning Complete\n"
     ]
    }
   ],
   "source": [
    "print(\"Checking for Categorical Anomalies\")\n",
    "print(\"\\nSpecial Handling (orders_df):\")\n",
    "print(orders_df['Special_Handling'].value_counts())\n",
    "\n",
    "print(\"\\nPriority (orders_df):\")\n",
    "print(orders_df['Priority'].value_counts())\n",
    "\n",
    "print(\"\\nCarrier (delivery_performance_df):\")\n",
    "print(delivery_performance_df['Carrier'].value_counts())\n",
    "\n",
    "print(\"\\nWeather Impact (routes_distance_df):\")\n",
    "print(routes_distance_df['Weather_Impact'].value_counts())\n",
    "\n",
    "print(\"Data Cleaning Complete\")"
   ]
  },
  {
   "cell_type": "markdown",
   "id": "6f3b7622-9572-4eab-9c66-3839849f3764",
   "metadata": {},
   "source": [
    "Inspecting orders"
   ]
  },
  {
   "cell_type": "code",
   "execution_count": 150,
   "id": "84248dbf-e775-4468-bbc5-005864d2451d",
   "metadata": {},
   "outputs": [
    {
     "name": "stdout",
     "output_type": "stream",
     "text": [
      "<class 'pandas.core.frame.DataFrame'>\n",
      "RangeIndex: 200 entries, 0 to 199\n",
      "Data columns (total 9 columns):\n",
      " #   Column            Non-Null Count  Dtype  \n",
      "---  ------            --------------  -----  \n",
      " 0   Order_ID          200 non-null    object \n",
      " 1   Order_Date        200 non-null    object \n",
      " 2   Customer_Segment  200 non-null    object \n",
      " 3   Priority          200 non-null    object \n",
      " 4   Product_Category  200 non-null    object \n",
      " 5   Order_Value_INR   200 non-null    float64\n",
      " 6   Origin            200 non-null    object \n",
      " 7   Destination       200 non-null    object \n",
      " 8   Special_Handling  200 non-null    object \n",
      "dtypes: float64(1), object(8)\n",
      "memory usage: 14.2+ KB\n",
      "None\n",
      "    Order_ID  Order_Date Customer_Segment  Priority Product_Category  Order_Value_INR     Origin Destination Special_Handling\n",
      "0  ORD000001  2025-10-09       Individual   Express       Industrial           238.73    Kolkata   Hyderabad  Normal Handling\n",
      "1  ORD000002  2025-09-29              SMB   Express       Industrial            17.01  Hyderabad     Kolkata  Normal Handling\n",
      "2  ORD000003  2025-09-15              SMB   Economy       Industrial          3024.95     Mumbai        Pune  Normal Handling\n",
      "3  ORD000004  2025-10-13       Individual   Economy          Fashion            56.74  Hyderabad   Ahmedabad  Normal Handling\n",
      "4  ORD000005  2025-09-08              SMB  Standard          Fashion         19148.65    Chennai      Mumbai  Normal Handling\n"
     ]
    }
   ],
   "source": [
    "print(orders_df.info())\n",
    "print(orders_df.head())"
   ]
  },
  {
   "cell_type": "markdown",
   "id": "0ff53df7-3ab4-47d1-becd-6dc9baad99a0",
   "metadata": {},
   "source": [
    "Inspecting delivery performance"
   ]
  },
  {
   "cell_type": "code",
   "execution_count": 151,
   "id": "0fb7570b-f2ab-4340-81ce-7c2cbe825b62",
   "metadata": {},
   "outputs": [
    {
     "name": "stdout",
     "output_type": "stream",
     "text": [
      "<class 'pandas.core.frame.DataFrame'>\n",
      "RangeIndex: 150 entries, 0 to 149\n",
      "Data columns (total 8 columns):\n",
      " #   Column                  Non-Null Count  Dtype  \n",
      "---  ------                  --------------  -----  \n",
      " 0   Order_ID                150 non-null    object \n",
      " 1   Carrier                 150 non-null    object \n",
      " 2   Promised_Delivery_Days  150 non-null    int64  \n",
      " 3   Actual_Delivery_Days    150 non-null    int64  \n",
      " 4   Delivery_Status         150 non-null    object \n",
      " 5   Quality_Issue           150 non-null    object \n",
      " 6   Customer_Rating         150 non-null    int64  \n",
      " 7   Delivery_Cost_INR       150 non-null    float64\n",
      "dtypes: float64(1), int64(3), object(4)\n",
      "memory usage: 9.5+ KB\n",
      "None\n",
      "    Order_ID          Carrier  Promised_Delivery_Days  Actual_Delivery_Days   Delivery_Status Quality_Issue  Customer_Rating  Delivery_Cost_INR\n",
      "0  ORD000001  SpeedyLogistics                       1                     2  Slightly-Delayed       Perfect                3             387.86\n",
      "1  ORD000002  SpeedyLogistics                       2                     3  Slightly-Delayed  Minor_Damage                1             430.19\n",
      "2  ORD000003  SpeedyLogistics                      10                    15  Severely-Delayed  Minor_Damage                3            1039.19\n",
      "3  ORD000004        QuickShip                       5                     5           On-Time       Perfect                5             599.01\n",
      "4  ORD000005  SpeedyLogistics                       4                     5  Slightly-Delayed       Perfect                3             537.90\n"
     ]
    }
   ],
   "source": [
    "print(delivery_performance_df.info())\n",
    "print(delivery_performance_df.head())"
   ]
  },
  {
   "cell_type": "code",
   "execution_count": 152,
   "id": "ca578e19-11c2-4c2c-9a3f-f92c307022d1",
   "metadata": {},
   "outputs": [],
   "source": [
    "merged_df = pd.merge(orders_df, delivery_performance_df, on=\"Order_ID\", how=\"inner\")"
   ]
  },
  {
   "cell_type": "code",
   "execution_count": 153,
   "id": "f60eb7be-5251-4c44-a057-25da8816b001",
   "metadata": {},
   "outputs": [],
   "source": [
    "merged_df = pd.merge(merged_df, routes_distance_df, on=\"Order_ID\", how=\"inner\")"
   ]
  },
  {
   "cell_type": "code",
   "execution_count": 154,
   "id": "09723be0-5275-4c9a-b552-69a1c5d52a19",
   "metadata": {},
   "outputs": [],
   "source": [
    "warehouse_inventory_df.rename(columns={'Location': 'Origin'}, inplace=True)"
   ]
  },
  {
   "cell_type": "code",
   "execution_count": 155,
   "id": "346fbe7e-a0cf-4cbf-8202-35d56f71f273",
   "metadata": {},
   "outputs": [],
   "source": [
    "merged_df = pd.merge(merged_df, warehouse_inventory_df, on=[\"Origin\", \"Product_Category\"], how=\"left\")"
   ]
  },
  {
   "cell_type": "code",
   "execution_count": 156,
   "id": "aef16578-af2c-4d28-92e3-c9807c2c4412",
   "metadata": {},
   "outputs": [
    {
     "name": "stdout",
     "output_type": "stream",
     "text": [
      "<class 'pandas.core.frame.DataFrame'>\n",
      "RangeIndex: 150 entries, 0 to 149\n",
      "Data columns (total 27 columns):\n",
      " #   Column                  Non-Null Count  Dtype  \n",
      "---  ------                  --------------  -----  \n",
      " 0   Order_ID                150 non-null    object \n",
      " 1   Order_Date              150 non-null    object \n",
      " 2   Customer_Segment        150 non-null    object \n",
      " 3   Priority                150 non-null    object \n",
      " 4   Product_Category        150 non-null    object \n",
      " 5   Order_Value_INR         150 non-null    float64\n",
      " 6   Origin                  150 non-null    object \n",
      " 7   Destination             150 non-null    object \n",
      " 8   Special_Handling        150 non-null    object \n",
      " 9   Carrier                 150 non-null    object \n",
      " 10  Promised_Delivery_Days  150 non-null    int64  \n",
      " 11  Actual_Delivery_Days    150 non-null    int64  \n",
      " 12  Delivery_Status         150 non-null    object \n",
      " 13  Quality_Issue           150 non-null    object \n",
      " 14  Customer_Rating         150 non-null    int64  \n",
      " 15  Delivery_Cost_INR       150 non-null    float64\n",
      " 16  Route                   150 non-null    object \n",
      " 17  Distance_KM             150 non-null    float64\n",
      " 18  Fuel_Consumption_L      150 non-null    float64\n",
      " 19  Toll_Charges_INR        150 non-null    float64\n",
      " 20  Traffic_Delay_Minutes   150 non-null    int64  \n",
      " 21  Weather_Impact          150 non-null    object \n",
      " 22  Warehouse_ID            122 non-null    object \n",
      " 23  Current_Stock_Units     122 non-null    float64\n",
      " 24  Reorder_Level           122 non-null    float64\n",
      " 25  Storage_Cost_per_Unit   122 non-null    float64\n",
      " 26  Last_Restocked_Date     122 non-null    object \n",
      "dtypes: float64(8), int64(4), object(15)\n",
      "memory usage: 31.8+ KB\n",
      "None\n",
      "    Order_ID  Order_Date Customer_Segment  Priority Product_Category  Order_Value_INR     Origin Destination Special_Handling          Carrier  Promised_Delivery_Days  Actual_Delivery_Days   Delivery_Status Quality_Issue  Customer_Rating  Delivery_Cost_INR                Route  Distance_KM  Fuel_Consumption_L  Toll_Charges_INR  Traffic_Delay_Minutes  Weather_Impact   Warehouse_ID  Current_Stock_Units  Reorder_Level  Storage_Cost_per_Unit Last_Restocked_Date\n",
      "0  ORD000001  2025-10-09       Individual   Express       Industrial           238.73    Kolkata   Hyderabad  Normal Handling  SpeedyLogistics                       1                     2  Slightly-Delayed       Perfect                3             387.86    Kolkata-Hyderabad       152.59               23.02            122.08                     21  Normal Weather  WH005_Kolkata                734.0          945.0                  19.45          2025-10-02\n",
      "1  ORD000002  2025-09-29              SMB   Express       Industrial            17.01  Hyderabad     Kolkata  Normal Handling  SpeedyLogistics                       2                     3  Slightly-Delayed  Minor_Damage                1             430.19    Hyderabad-Kolkata       362.05               43.98            289.64                     33  Normal Weather            NaN                  NaN            NaN                    NaN                 NaN\n",
      "2  ORD000003  2025-09-15              SMB   Economy       Industrial          3024.95     Mumbai        Pune  Normal Handling  SpeedyLogistics                      10                    15  Severely-Delayed  Minor_Damage                3            1039.19          Mumbai-Pune       519.74               65.75            415.79                      2  Normal Weather   WH001_Mumbai                745.0          819.0                  28.17          2025-09-29\n",
      "3  ORD000004  2025-10-13       Individual   Economy          Fashion            56.74  Hyderabad   Ahmedabad  Normal Handling        QuickShip                       5                     5           On-Time       Perfect                5             599.01  Hyderabad-Ahmedabad       540.87               61.85            432.70                    112  Normal Weather            NaN                  NaN            NaN                    NaN                 NaN\n",
      "4  ORD000005  2025-09-08              SMB  Standard          Fashion         19148.65    Chennai      Mumbai  Normal Handling  SpeedyLogistics                       4                     5  Slightly-Delayed       Perfect                3             537.90       Chennai-Mumbai      1251.56              147.54           1001.25                     10  Normal Weather  WH004_Chennai               4004.0          292.0                  41.96          2025-10-05\n"
     ]
    }
   ],
   "source": [
    "print(merged_df.info())\n",
    "print(merged_df.head())"
   ]
  },
  {
   "cell_type": "code",
   "execution_count": 157,
   "id": "3afdc40e-808b-4c77-8d98-8af1bdfd0733",
   "metadata": {},
   "outputs": [],
   "source": [
    "merged_df['is_delayed'] = (merged_df['Actual_Delivery_Days'] > merged_df['Promised_Delivery_Days']).astype(int)"
   ]
  },
  {
   "cell_type": "code",
   "execution_count": 158,
   "id": "cd0ded04-13ef-4f48-ad2b-792dad377528",
   "metadata": {},
   "outputs": [
    {
     "name": "stdout",
     "output_type": "stream",
     "text": [
      "    Order_ID  Promised_Delivery_Days  Actual_Delivery_Days  is_delayed\n",
      "0  ORD000001                       1                     2           1\n",
      "1  ORD000002                       2                     3           1\n",
      "2  ORD000003                      10                    15           1\n",
      "3  ORD000004                       5                     5           0\n",
      "4  ORD000005                       4                     5           1\n"
     ]
    }
   ],
   "source": [
    "print(merged_df[['Order_ID', 'Promised_Delivery_Days', 'Actual_Delivery_Days', 'is_delayed']].head())"
   ]
  },
  {
   "cell_type": "code",
   "execution_count": 159,
   "id": "2b70067c-f6f4-4e89-bc7e-a23a4ba243f4",
   "metadata": {},
   "outputs": [
    {
     "name": "stdout",
     "output_type": "stream",
     "text": [
      "is_delayed\n",
      "0    0.533333\n",
      "1    0.466667\n",
      "Name: proportion, dtype: float64\n"
     ]
    }
   ],
   "source": [
    "print(merged_df['is_delayed'].value_counts(normalize=True))"
   ]
  },
  {
   "cell_type": "markdown",
   "id": "10f3d691-9670-451b-88ba-1d6093db5b48",
   "metadata": {},
   "source": [
    "46.67% Orders are Delayed "
   ]
  },
  {
   "cell_type": "code",
   "execution_count": 160,
   "id": "6d5f5c0c-ca42-4328-8b63-4913ce51309d",
   "metadata": {},
   "outputs": [],
   "source": [
    "total_orders = len(merged_df)\n",
    "delayed_orders = merged_df['is_delayed'].sum()\n",
    "delay_rate = (delayed_orders / total_orders) * 100"
   ]
  },
  {
   "cell_type": "code",
   "execution_count": 161,
   "id": "937d5233-272f-474a-9c15-2f68822b95d1",
   "metadata": {},
   "outputs": [
    {
     "name": "stdout",
     "output_type": "stream",
     "text": [
      "Total Orders Analyzed: 150\n",
      "Delayed Orders: 70\n",
      "Overall Delay Rate: 46.67%\n"
     ]
    }
   ],
   "source": [
    "print(f\"Total Orders Analyzed: {total_orders}\")\n",
    "print(f\"Delayed Orders: {delayed_orders}\")\n",
    "print(f\"Overall Delay Rate: {delay_rate:.2f}%\")"
   ]
  },
  {
   "cell_type": "code",
   "execution_count": 193,
   "id": "cea3505c-f90f-44a1-86b0-ea260eafba1e",
   "metadata": {},
   "outputs": [],
   "source": [
    "status_counts = merged_df['Delivery_Status'].value_counts().reset_index()\n",
    "status_counts.columns = ['Delivery_Status', 'Count']"
   ]
  },
  {
   "cell_type": "code",
   "execution_count": 194,
   "id": "1a522025-de61-4ca9-b0c0-d1e1a8f048cc",
   "metadata": {},
   "outputs": [],
   "source": [
    "total_orders = len(merged_df)\n",
    "status_counts['Percentage'] = (status_counts['Count'] / total_orders) * 100"
   ]
  },
  {
   "cell_type": "code",
   "execution_count": 195,
   "id": "8474b2b7-857f-4692-b446-5ba81af6106d",
   "metadata": {},
   "outputs": [
    {
     "name": "stdout",
     "output_type": "stream",
     "text": [
      "Total Orders Analyzed: 150\n",
      "\n",
      "| Delivery_Status   |   Count |   Percentage |\n",
      "|:------------------|--------:|-------------:|\n",
      "| On-Time           |      80 |        53.33 |\n",
      "| Slightly-Delayed  |      45 |        30.00 |\n",
      "| Severely-Delayed  |      25 |        16.67 |\n"
     ]
    }
   ],
   "source": [
    "print(f\"Total Orders Analyzed: {total_orders}\\n\")\n",
    "print(status_counts.to_markdown(index=False, floatfmt='.2f'))"
   ]
  },
  {
   "cell_type": "code",
   "execution_count": null,
   "id": "df72d5e7-603f-402c-8f4a-b6330460ee46",
   "metadata": {},
   "outputs": [],
   "source": []
  },
  {
   "cell_type": "code",
   "execution_count": 162,
   "id": "70d621c8-e350-4824-9365-cee105a2d575",
   "metadata": {},
   "outputs": [],
   "source": [
    "priority_delay_df = merged_df.groupby('Priority')['is_delayed'].mean().reset_index()"
   ]
  },
  {
   "cell_type": "code",
   "execution_count": 163,
   "id": "d05e8a99-f3d3-432c-a723-f2b318f92d7e",
   "metadata": {},
   "outputs": [],
   "source": [
    "priority_delay_df = priority_delay_df.rename(columns={'is_delayed': 'Delay_Rate'})\n",
    "priority_delay_df['Delay_Rate_Percent'] = priority_delay_df['Delay_Rate'] * 100"
   ]
  },
  {
   "cell_type": "code",
   "execution_count": 164,
   "id": "644d217a-1cbc-4e9f-871c-5c7b6e7522cd",
   "metadata": {},
   "outputs": [
    {
     "name": "stdout",
     "output_type": "stream",
     "text": [
      "| Priority   |   Delay_Rate |   Delay_Rate_Percent |\n",
      "|:-----------|-------------:|---------------------:|\n",
      "| Economy    |         0.45 |                44.90 |\n",
      "| Express    |         0.50 |                50.00 |\n",
      "| Standard   |         0.46 |                46.03 |\n"
     ]
    }
   ],
   "source": [
    "print(priority_delay_df.to_markdown(index=False, floatfmt=\".2f\"))"
   ]
  },
  {
   "cell_type": "code",
   "execution_count": 165,
   "id": "dfac67a9-553a-468e-a2da-aec4dd8093f2",
   "metadata": {},
   "outputs": [],
   "source": [
    "priority_chart = alt.Chart(priority_delay_df).mark_bar().encode(\n",
    "    # Use 'Priority' on the x-axis, sort by delay rate (descending)\n",
    "    x=alt.X('Priority', sort='-y'),\n",
    "    # Use 'Delay_Rate_Percent' on the y-axis\n",
    "    y=alt.Y('Delay_Rate_Percent', title='Delay Rate (%)'),\n",
    "    # Add tooltips to show details on hover\n",
    "    tooltip=['Priority', alt.Tooltip('Delay_Rate_Percent', format='.1f')]\n",
    ").properties(\n",
    "    title = 'Delay Rate by Order Priority',\n",
    "    width=400, height=250 \n",
    ").interactive()"
   ]
  },
  {
   "cell_type": "code",
   "execution_count": 166,
   "id": "ee2ad8e6-c837-4a04-9780-986f7241688a",
   "metadata": {},
   "outputs": [
    {
     "data": {
      "text/html": [
       "\n",
       "<style>\n",
       "  #altair-viz-b750a1a710704997bba4b01869b254b4.vega-embed {\n",
       "    width: 100%;\n",
       "    display: flex;\n",
       "  }\n",
       "\n",
       "  #altair-viz-b750a1a710704997bba4b01869b254b4.vega-embed details,\n",
       "  #altair-viz-b750a1a710704997bba4b01869b254b4.vega-embed details summary {\n",
       "    position: relative;\n",
       "  }\n",
       "</style>\n",
       "<div id=\"altair-viz-b750a1a710704997bba4b01869b254b4\"></div>\n",
       "<script type=\"text/javascript\">\n",
       "  var VEGA_DEBUG = (typeof VEGA_DEBUG == \"undefined\") ? {} : VEGA_DEBUG;\n",
       "  (function(spec, embedOpt){\n",
       "    let outputDiv = document.currentScript.previousElementSibling;\n",
       "    if (outputDiv.id !== \"altair-viz-b750a1a710704997bba4b01869b254b4\") {\n",
       "      outputDiv = document.getElementById(\"altair-viz-b750a1a710704997bba4b01869b254b4\");\n",
       "    }\n",
       "\n",
       "    const paths = {\n",
       "      \"vega\": \"https://cdn.jsdelivr.net/npm/vega@5?noext\",\n",
       "      \"vega-lib\": \"https://cdn.jsdelivr.net/npm/vega-lib?noext\",\n",
       "      \"vega-lite\": \"https://cdn.jsdelivr.net/npm/vega-lite@5.20.1?noext\",\n",
       "      \"vega-embed\": \"https://cdn.jsdelivr.net/npm/vega-embed@6?noext\",\n",
       "    };\n",
       "\n",
       "    function maybeLoadScript(lib, version) {\n",
       "      var key = `${lib.replace(\"-\", \"\")}_version`;\n",
       "      return (VEGA_DEBUG[key] == version) ?\n",
       "        Promise.resolve(paths[lib]) :\n",
       "        new Promise(function(resolve, reject) {\n",
       "          var s = document.createElement('script');\n",
       "          document.getElementsByTagName(\"head\")[0].appendChild(s);\n",
       "          s.async = true;\n",
       "          s.onload = () => {\n",
       "            VEGA_DEBUG[key] = version;\n",
       "            return resolve(paths[lib]);\n",
       "          };\n",
       "          s.onerror = () => reject(`Error loading script: ${paths[lib]}`);\n",
       "          s.src = paths[lib];\n",
       "        });\n",
       "    }\n",
       "\n",
       "    function showError(err) {\n",
       "      outputDiv.innerHTML = `<div class=\"error\" style=\"color:red;\">${err}</div>`;\n",
       "      throw err;\n",
       "    }\n",
       "\n",
       "    function displayChart(vegaEmbed) {\n",
       "      vegaEmbed(outputDiv, spec, embedOpt)\n",
       "        .catch(err => showError(`Javascript Error: ${err.message}<br>This usually means there's a typo in your chart specification. See the javascript console for the full traceback.`));\n",
       "    }\n",
       "\n",
       "    if(typeof define === \"function\" && define.amd) {\n",
       "      requirejs.config({paths});\n",
       "      let deps = [\"vega-embed\"];\n",
       "      require(deps, displayChart, err => showError(`Error loading script: ${err.message}`));\n",
       "    } else {\n",
       "      maybeLoadScript(\"vega\", \"5\")\n",
       "        .then(() => maybeLoadScript(\"vega-lite\", \"5.20.1\"))\n",
       "        .then(() => maybeLoadScript(\"vega-embed\", \"6\"))\n",
       "        .catch(showError)\n",
       "        .then(() => displayChart(vegaEmbed));\n",
       "    }\n",
       "  })({\"config\": {\"view\": {\"continuousWidth\": 300, \"continuousHeight\": 300}}, \"data\": {\"name\": \"data-45a3124451613381015a9f637474087c\"}, \"mark\": {\"type\": \"bar\"}, \"encoding\": {\"tooltip\": [{\"field\": \"Priority\", \"type\": \"nominal\"}, {\"field\": \"Delay_Rate_Percent\", \"format\": \".1f\", \"type\": \"quantitative\"}], \"x\": {\"field\": \"Priority\", \"sort\": \"-y\", \"type\": \"nominal\"}, \"y\": {\"field\": \"Delay_Rate_Percent\", \"title\": \"Delay Rate (%)\", \"type\": \"quantitative\"}}, \"height\": 250, \"params\": [{\"name\": \"param_18\", \"select\": {\"type\": \"interval\", \"encodings\": [\"x\", \"y\"]}, \"bind\": \"scales\"}], \"title\": \"Delay Rate by Order Priority\", \"width\": 400, \"$schema\": \"https://vega.github.io/schema/vega-lite/v5.20.1.json\", \"datasets\": {\"data-45a3124451613381015a9f637474087c\": [{\"Priority\": \"Economy\", \"Delay_Rate\": 0.4489795918367347, \"Delay_Rate_Percent\": 44.89795918367347}, {\"Priority\": \"Express\", \"Delay_Rate\": 0.5, \"Delay_Rate_Percent\": 50.0}, {\"Priority\": \"Standard\", \"Delay_Rate\": 0.4603174603174603, \"Delay_Rate_Percent\": 46.03174603174603}]}}, {\"mode\": \"vega-lite\"});\n",
       "</script>"
      ],
      "text/plain": [
       "alt.Chart(...)"
      ]
     },
     "execution_count": 166,
     "metadata": {},
     "output_type": "execute_result"
    }
   ],
   "source": [
    "priority_chart"
   ]
  },
  {
   "cell_type": "code",
   "execution_count": 167,
   "id": "1352e549-89bb-480e-b2cf-e3f74ea61cc0",
   "metadata": {},
   "outputs": [],
   "source": [
    "carrier_delay_df = merged_df.groupby('Carrier')['is_delayed'].mean().reset_index()"
   ]
  },
  {
   "cell_type": "code",
   "execution_count": 168,
   "id": "09adc622-de6a-41ba-81e8-f4394eb0da73",
   "metadata": {},
   "outputs": [],
   "source": [
    "carrier_delay_df = carrier_delay_df.rename(columns={'is_delayed': 'Delay_Rate'})\n",
    "carrier_delay_df['Delay_Rate_Percent'] = carrier_delay_df['Delay_Rate'] * 100"
   ]
  },
  {
   "cell_type": "code",
   "execution_count": 169,
   "id": "f9c7e68a-bae4-4ffb-adbb-8aa251d57254",
   "metadata": {},
   "outputs": [
    {
     "name": "stdout",
     "output_type": "stream",
     "text": [
      "| Carrier         |   Delay_Rate |   Delay_Rate_Percent |\n",
      "|:----------------|-------------:|---------------------:|\n",
      "| GlobalTransit   |         0.64 |                63.64 |\n",
      "| ReliableExpress |         0.53 |                52.50 |\n",
      "| SpeedyLogistics |         0.51 |                51.22 |\n",
      "| EcoDeliver      |         0.38 |                37.50 |\n",
      "| QuickShip       |         0.26 |                25.81 |\n"
     ]
    }
   ],
   "source": [
    "print(carrier_delay_df.sort_values(by='Delay_Rate', ascending=False).to_markdown(index=False, floatfmt=\".2f\"))"
   ]
  },
  {
   "cell_type": "code",
   "execution_count": 170,
   "id": "c7b222dd-7868-4a62-8a6c-26cc6a860013",
   "metadata": {},
   "outputs": [],
   "source": [
    "carrier_chart = alt.Chart(carrier_delay_df).mark_bar().encode(\n",
    "    # Use 'Carrier' on the x-axis, sort by delay rate (descending)\n",
    "    x=alt.X('Carrier', sort='-y'),\n",
    "    # Use 'Delay_Rate_Percent' on the y-axis\n",
    "    y=alt.Y('Delay_Rate_Percent', title='Delay Rate (%)'),\n",
    "    # Add tooltips to show details on hover\n",
    "    tooltip=['Carrier', alt.Tooltip('Delay_Rate_Percent', format='.1f')]\n",
    ").properties(\n",
    "    title='Delay Rate by Carrier',\n",
    "    width = 400, height = 250\n",
    ").interactive()"
   ]
  },
  {
   "cell_type": "code",
   "execution_count": 171,
   "id": "2ecf56d9-90fe-499c-9abc-e53387199daf",
   "metadata": {},
   "outputs": [
    {
     "data": {
      "text/html": [
       "\n",
       "<style>\n",
       "  #altair-viz-a79a4af2c3074cca89709a4ee74c1a5f.vega-embed {\n",
       "    width: 100%;\n",
       "    display: flex;\n",
       "  }\n",
       "\n",
       "  #altair-viz-a79a4af2c3074cca89709a4ee74c1a5f.vega-embed details,\n",
       "  #altair-viz-a79a4af2c3074cca89709a4ee74c1a5f.vega-embed details summary {\n",
       "    position: relative;\n",
       "  }\n",
       "</style>\n",
       "<div id=\"altair-viz-a79a4af2c3074cca89709a4ee74c1a5f\"></div>\n",
       "<script type=\"text/javascript\">\n",
       "  var VEGA_DEBUG = (typeof VEGA_DEBUG == \"undefined\") ? {} : VEGA_DEBUG;\n",
       "  (function(spec, embedOpt){\n",
       "    let outputDiv = document.currentScript.previousElementSibling;\n",
       "    if (outputDiv.id !== \"altair-viz-a79a4af2c3074cca89709a4ee74c1a5f\") {\n",
       "      outputDiv = document.getElementById(\"altair-viz-a79a4af2c3074cca89709a4ee74c1a5f\");\n",
       "    }\n",
       "\n",
       "    const paths = {\n",
       "      \"vega\": \"https://cdn.jsdelivr.net/npm/vega@5?noext\",\n",
       "      \"vega-lib\": \"https://cdn.jsdelivr.net/npm/vega-lib?noext\",\n",
       "      \"vega-lite\": \"https://cdn.jsdelivr.net/npm/vega-lite@5.20.1?noext\",\n",
       "      \"vega-embed\": \"https://cdn.jsdelivr.net/npm/vega-embed@6?noext\",\n",
       "    };\n",
       "\n",
       "    function maybeLoadScript(lib, version) {\n",
       "      var key = `${lib.replace(\"-\", \"\")}_version`;\n",
       "      return (VEGA_DEBUG[key] == version) ?\n",
       "        Promise.resolve(paths[lib]) :\n",
       "        new Promise(function(resolve, reject) {\n",
       "          var s = document.createElement('script');\n",
       "          document.getElementsByTagName(\"head\")[0].appendChild(s);\n",
       "          s.async = true;\n",
       "          s.onload = () => {\n",
       "            VEGA_DEBUG[key] = version;\n",
       "            return resolve(paths[lib]);\n",
       "          };\n",
       "          s.onerror = () => reject(`Error loading script: ${paths[lib]}`);\n",
       "          s.src = paths[lib];\n",
       "        });\n",
       "    }\n",
       "\n",
       "    function showError(err) {\n",
       "      outputDiv.innerHTML = `<div class=\"error\" style=\"color:red;\">${err}</div>`;\n",
       "      throw err;\n",
       "    }\n",
       "\n",
       "    function displayChart(vegaEmbed) {\n",
       "      vegaEmbed(outputDiv, spec, embedOpt)\n",
       "        .catch(err => showError(`Javascript Error: ${err.message}<br>This usually means there's a typo in your chart specification. See the javascript console for the full traceback.`));\n",
       "    }\n",
       "\n",
       "    if(typeof define === \"function\" && define.amd) {\n",
       "      requirejs.config({paths});\n",
       "      let deps = [\"vega-embed\"];\n",
       "      require(deps, displayChart, err => showError(`Error loading script: ${err.message}`));\n",
       "    } else {\n",
       "      maybeLoadScript(\"vega\", \"5\")\n",
       "        .then(() => maybeLoadScript(\"vega-lite\", \"5.20.1\"))\n",
       "        .then(() => maybeLoadScript(\"vega-embed\", \"6\"))\n",
       "        .catch(showError)\n",
       "        .then(() => displayChart(vegaEmbed));\n",
       "    }\n",
       "  })({\"config\": {\"view\": {\"continuousWidth\": 300, \"continuousHeight\": 300}}, \"data\": {\"name\": \"data-5e74a60cfc52f764950483806b181efc\"}, \"mark\": {\"type\": \"bar\"}, \"encoding\": {\"tooltip\": [{\"field\": \"Carrier\", \"type\": \"nominal\"}, {\"field\": \"Delay_Rate_Percent\", \"format\": \".1f\", \"type\": \"quantitative\"}], \"x\": {\"field\": \"Carrier\", \"sort\": \"-y\", \"type\": \"nominal\"}, \"y\": {\"field\": \"Delay_Rate_Percent\", \"title\": \"Delay Rate (%)\", \"type\": \"quantitative\"}}, \"height\": 250, \"params\": [{\"name\": \"param_19\", \"select\": {\"type\": \"interval\", \"encodings\": [\"x\", \"y\"]}, \"bind\": \"scales\"}], \"title\": \"Delay Rate by Carrier\", \"width\": 400, \"$schema\": \"https://vega.github.io/schema/vega-lite/v5.20.1.json\", \"datasets\": {\"data-5e74a60cfc52f764950483806b181efc\": [{\"Carrier\": \"EcoDeliver\", \"Delay_Rate\": 0.375, \"Delay_Rate_Percent\": 37.5}, {\"Carrier\": \"GlobalTransit\", \"Delay_Rate\": 0.6363636363636364, \"Delay_Rate_Percent\": 63.63636363636363}, {\"Carrier\": \"QuickShip\", \"Delay_Rate\": 0.25806451612903225, \"Delay_Rate_Percent\": 25.806451612903224}, {\"Carrier\": \"ReliableExpress\", \"Delay_Rate\": 0.525, \"Delay_Rate_Percent\": 52.5}, {\"Carrier\": \"SpeedyLogistics\", \"Delay_Rate\": 0.5121951219512195, \"Delay_Rate_Percent\": 51.21951219512195}]}}, {\"mode\": \"vega-lite\"});\n",
       "</script>"
      ],
      "text/plain": [
       "alt.Chart(...)"
      ]
     },
     "execution_count": 171,
     "metadata": {},
     "output_type": "execute_result"
    }
   ],
   "source": [
    "carrier_chart"
   ]
  },
  {
   "cell_type": "code",
   "execution_count": 172,
   "id": "017e2b9a-10dc-49af-ac47-eb8d5241fb18",
   "metadata": {},
   "outputs": [
    {
     "name": "stdout",
     "output_type": "stream",
     "text": [
      "Weather Impact Value Counts:\n",
      "Weather_Impact\n",
      "Normal Weather    106\n",
      "Light_Rain         24\n",
      "Heavy_Rain         14\n",
      "Fog                 6\n",
      "Name: count, dtype: int64\n",
      "\n",
      "\n"
     ]
    }
   ],
   "source": [
    "print(\"Weather Impact Value Counts:\")\n",
    "print(merged_df['Weather_Impact'].value_counts())\n",
    "print(\"\\n\") "
   ]
  },
  {
   "cell_type": "code",
   "execution_count": 173,
   "id": "8837f368-71b8-4de3-b4b8-249ecd2df932",
   "metadata": {},
   "outputs": [],
   "source": [
    "weather_delay_df = merged_df.groupby('Weather_Impact')['is_delayed'].mean().reset_index()"
   ]
  },
  {
   "cell_type": "code",
   "execution_count": 174,
   "id": "9ae6e6e5-c46a-4aff-8218-142fd0a2199f",
   "metadata": {},
   "outputs": [],
   "source": [
    "weather_delay_df = weather_delay_df.rename(columns={'is_delayed': 'Delay_Rate'})\n",
    "weather_delay_df['Delay_Rate_Percent'] = weather_delay_df['Delay_Rate'] * 100"
   ]
  },
  {
   "cell_type": "code",
   "execution_count": 175,
   "id": "35437eeb-13d1-4c64-9a62-6c3451ead2f4",
   "metadata": {},
   "outputs": [
    {
     "name": "stdout",
     "output_type": "stream",
     "text": [
      "| Weather_Impact   |   Delay_Rate |   Delay_Rate_Percent |\n",
      "|:-----------------|-------------:|---------------------:|\n",
      "| Fog              |         0.17 |                16.67 |\n",
      "| Heavy_Rain       |         0.50 |                50.00 |\n",
      "| Light_Rain       |         0.38 |                37.50 |\n",
      "| Normal Weather   |         0.50 |                50.00 |\n"
     ]
    }
   ],
   "source": [
    "print(weather_delay_df.to_markdown(index=False, floatfmt=\".2f\"))"
   ]
  },
  {
   "cell_type": "code",
   "execution_count": 176,
   "id": "203b5c01-9c5d-49fd-9241-09d0af531443",
   "metadata": {},
   "outputs": [],
   "source": [
    "weather_chart = alt.Chart(weather_delay_df).mark_bar().encode(\n",
    "    # Use 'Weather_Impact' on the x-axis, sort by delay rate (descending)\n",
    "    x=alt.X('Weather_Impact', sort='-y'),\n",
    "    # Use 'Delay_Rate_Percent' on the y-axis\n",
    "    y=alt.Y('Delay_Rate_Percent', title='Delay Rate (%)'),\n",
    "    # Add tooltips to show details on hover\n",
    "    tooltip=['Weather_Impact', alt.Tooltip('Delay_Rate_Percent', format='.1f')]\n",
    ").properties(\n",
    "    title='Delay Rate by Weather Impact',\n",
    "    width = 400, height = 250\n",
    ").interactive()"
   ]
  },
  {
   "cell_type": "code",
   "execution_count": 177,
   "id": "9335f1bf-5771-4804-b326-bcb6d8c14ed9",
   "metadata": {},
   "outputs": [
    {
     "data": {
      "text/html": [
       "\n",
       "<style>\n",
       "  #altair-viz-15dd7c8caa92400088cea06d58e784c9.vega-embed {\n",
       "    width: 100%;\n",
       "    display: flex;\n",
       "  }\n",
       "\n",
       "  #altair-viz-15dd7c8caa92400088cea06d58e784c9.vega-embed details,\n",
       "  #altair-viz-15dd7c8caa92400088cea06d58e784c9.vega-embed details summary {\n",
       "    position: relative;\n",
       "  }\n",
       "</style>\n",
       "<div id=\"altair-viz-15dd7c8caa92400088cea06d58e784c9\"></div>\n",
       "<script type=\"text/javascript\">\n",
       "  var VEGA_DEBUG = (typeof VEGA_DEBUG == \"undefined\") ? {} : VEGA_DEBUG;\n",
       "  (function(spec, embedOpt){\n",
       "    let outputDiv = document.currentScript.previousElementSibling;\n",
       "    if (outputDiv.id !== \"altair-viz-15dd7c8caa92400088cea06d58e784c9\") {\n",
       "      outputDiv = document.getElementById(\"altair-viz-15dd7c8caa92400088cea06d58e784c9\");\n",
       "    }\n",
       "\n",
       "    const paths = {\n",
       "      \"vega\": \"https://cdn.jsdelivr.net/npm/vega@5?noext\",\n",
       "      \"vega-lib\": \"https://cdn.jsdelivr.net/npm/vega-lib?noext\",\n",
       "      \"vega-lite\": \"https://cdn.jsdelivr.net/npm/vega-lite@5.20.1?noext\",\n",
       "      \"vega-embed\": \"https://cdn.jsdelivr.net/npm/vega-embed@6?noext\",\n",
       "    };\n",
       "\n",
       "    function maybeLoadScript(lib, version) {\n",
       "      var key = `${lib.replace(\"-\", \"\")}_version`;\n",
       "      return (VEGA_DEBUG[key] == version) ?\n",
       "        Promise.resolve(paths[lib]) :\n",
       "        new Promise(function(resolve, reject) {\n",
       "          var s = document.createElement('script');\n",
       "          document.getElementsByTagName(\"head\")[0].appendChild(s);\n",
       "          s.async = true;\n",
       "          s.onload = () => {\n",
       "            VEGA_DEBUG[key] = version;\n",
       "            return resolve(paths[lib]);\n",
       "          };\n",
       "          s.onerror = () => reject(`Error loading script: ${paths[lib]}`);\n",
       "          s.src = paths[lib];\n",
       "        });\n",
       "    }\n",
       "\n",
       "    function showError(err) {\n",
       "      outputDiv.innerHTML = `<div class=\"error\" style=\"color:red;\">${err}</div>`;\n",
       "      throw err;\n",
       "    }\n",
       "\n",
       "    function displayChart(vegaEmbed) {\n",
       "      vegaEmbed(outputDiv, spec, embedOpt)\n",
       "        .catch(err => showError(`Javascript Error: ${err.message}<br>This usually means there's a typo in your chart specification. See the javascript console for the full traceback.`));\n",
       "    }\n",
       "\n",
       "    if(typeof define === \"function\" && define.amd) {\n",
       "      requirejs.config({paths});\n",
       "      let deps = [\"vega-embed\"];\n",
       "      require(deps, displayChart, err => showError(`Error loading script: ${err.message}`));\n",
       "    } else {\n",
       "      maybeLoadScript(\"vega\", \"5\")\n",
       "        .then(() => maybeLoadScript(\"vega-lite\", \"5.20.1\"))\n",
       "        .then(() => maybeLoadScript(\"vega-embed\", \"6\"))\n",
       "        .catch(showError)\n",
       "        .then(() => displayChart(vegaEmbed));\n",
       "    }\n",
       "  })({\"config\": {\"view\": {\"continuousWidth\": 300, \"continuousHeight\": 300}}, \"data\": {\"name\": \"data-f198b7d4521d1ea37024d4bf1a707c03\"}, \"mark\": {\"type\": \"bar\"}, \"encoding\": {\"tooltip\": [{\"field\": \"Weather_Impact\", \"type\": \"nominal\"}, {\"field\": \"Delay_Rate_Percent\", \"format\": \".1f\", \"type\": \"quantitative\"}], \"x\": {\"field\": \"Weather_Impact\", \"sort\": \"-y\", \"type\": \"nominal\"}, \"y\": {\"field\": \"Delay_Rate_Percent\", \"title\": \"Delay Rate (%)\", \"type\": \"quantitative\"}}, \"height\": 250, \"params\": [{\"name\": \"param_20\", \"select\": {\"type\": \"interval\", \"encodings\": [\"x\", \"y\"]}, \"bind\": \"scales\"}], \"title\": \"Delay Rate by Weather Impact\", \"width\": 400, \"$schema\": \"https://vega.github.io/schema/vega-lite/v5.20.1.json\", \"datasets\": {\"data-f198b7d4521d1ea37024d4bf1a707c03\": [{\"Weather_Impact\": \"Fog\", \"Delay_Rate\": 0.16666666666666666, \"Delay_Rate_Percent\": 16.666666666666664}, {\"Weather_Impact\": \"Heavy_Rain\", \"Delay_Rate\": 0.5, \"Delay_Rate_Percent\": 50.0}, {\"Weather_Impact\": \"Light_Rain\", \"Delay_Rate\": 0.375, \"Delay_Rate_Percent\": 37.5}, {\"Weather_Impact\": \"Normal Weather\", \"Delay_Rate\": 0.5, \"Delay_Rate_Percent\": 50.0}]}}, {\"mode\": \"vega-lite\"});\n",
       "</script>"
      ],
      "text/plain": [
       "alt.Chart(...)"
      ]
     },
     "execution_count": 177,
     "metadata": {},
     "output_type": "execute_result"
    }
   ],
   "source": [
    "weather_chart"
   ]
  },
  {
   "cell_type": "code",
   "execution_count": 178,
   "id": "91ce273a-07ff-4771-b980-56593f2023d7",
   "metadata": {},
   "outputs": [
    {
     "name": "stdout",
     "output_type": "stream",
     "text": [
      "Special Handling Value Counts:\n",
      "Special_Handling\n",
      "Normal Handling           115\n",
      "Fragile                    18\n",
      "Temperature_Controlled     10\n",
      "Hazmat                      7\n",
      "Name: count, dtype: int64\n"
     ]
    }
   ],
   "source": [
    "print(\"Special Handling Value Counts:\")\n",
    "print(merged_df['Special_Handling'].value_counts())"
   ]
  },
  {
   "cell_type": "code",
   "execution_count": 179,
   "id": "53e1d002-4304-4a93-b268-bdb5f805b9a9",
   "metadata": {},
   "outputs": [],
   "source": [
    "handling_delay_df = merged_df.groupby('Special_Handling')['is_delayed'].mean().reset_index()"
   ]
  },
  {
   "cell_type": "code",
   "execution_count": 180,
   "id": "085db59e-cf2e-4753-82a1-bdc092e5a6bf",
   "metadata": {},
   "outputs": [],
   "source": [
    "handling_delay_df = handling_delay_df.rename(columns={'is_delayed': 'Delay_Rate'})\n",
    "handling_delay_df['Delay_Rate_Percent'] = handling_delay_df['Delay_Rate'] * 100"
   ]
  },
  {
   "cell_type": "code",
   "execution_count": 181,
   "id": "2a464c7f-5033-410d-8f02-187d668baedc",
   "metadata": {},
   "outputs": [
    {
     "name": "stdout",
     "output_type": "stream",
     "text": [
      "| Special_Handling       |   Delay_Rate |   Delay_Rate_Percent |\n",
      "|:-----------------------|-------------:|---------------------:|\n",
      "| Fragile                |         0.39 |                38.89 |\n",
      "| Hazmat                 |         0.71 |                71.43 |\n",
      "| Normal Handling        |         0.46 |                46.09 |\n",
      "| Temperature_Controlled |         0.50 |                50.00 |\n"
     ]
    }
   ],
   "source": [
    "print(handling_delay_df.to_markdown(index=False, floatfmt=\".2f\"))"
   ]
  },
  {
   "cell_type": "code",
   "execution_count": 182,
   "id": "0e901eaa-59fb-4d2a-9075-8ab2cbfa3764",
   "metadata": {},
   "outputs": [],
   "source": [
    "handling_chart = alt.Chart(handling_delay_df).mark_bar().encode(\n",
    "    # Use 'Special_Handling' on the x-axis, sort by delay rate (descending)\n",
    "    x=alt.X('Special_Handling', sort='-y'),\n",
    "    # Use 'Delay_Rate_Percent' on the y-axis\n",
    "    y=alt.Y('Delay_Rate_Percent', title='Delay Rate (%)'),\n",
    "    # Add tooltips to show details on hover\n",
    "    tooltip=['Special_Handling', alt.Tooltip('Delay_Rate_Percent', format='.1f')]\n",
    ").properties(\n",
    "    title='Delay Rate by Special Handling',\n",
    "    width = 400, height = 250\n",
    ").interactive()"
   ]
  },
  {
   "cell_type": "code",
   "execution_count": 183,
   "id": "d1431496-2806-4765-a863-3d3a1ba54bbc",
   "metadata": {},
   "outputs": [
    {
     "data": {
      "text/html": [
       "\n",
       "<style>\n",
       "  #altair-viz-2c0a4e7ae6874458a9a88107968716cd.vega-embed {\n",
       "    width: 100%;\n",
       "    display: flex;\n",
       "  }\n",
       "\n",
       "  #altair-viz-2c0a4e7ae6874458a9a88107968716cd.vega-embed details,\n",
       "  #altair-viz-2c0a4e7ae6874458a9a88107968716cd.vega-embed details summary {\n",
       "    position: relative;\n",
       "  }\n",
       "</style>\n",
       "<div id=\"altair-viz-2c0a4e7ae6874458a9a88107968716cd\"></div>\n",
       "<script type=\"text/javascript\">\n",
       "  var VEGA_DEBUG = (typeof VEGA_DEBUG == \"undefined\") ? {} : VEGA_DEBUG;\n",
       "  (function(spec, embedOpt){\n",
       "    let outputDiv = document.currentScript.previousElementSibling;\n",
       "    if (outputDiv.id !== \"altair-viz-2c0a4e7ae6874458a9a88107968716cd\") {\n",
       "      outputDiv = document.getElementById(\"altair-viz-2c0a4e7ae6874458a9a88107968716cd\");\n",
       "    }\n",
       "\n",
       "    const paths = {\n",
       "      \"vega\": \"https://cdn.jsdelivr.net/npm/vega@5?noext\",\n",
       "      \"vega-lib\": \"https://cdn.jsdelivr.net/npm/vega-lib?noext\",\n",
       "      \"vega-lite\": \"https://cdn.jsdelivr.net/npm/vega-lite@5.20.1?noext\",\n",
       "      \"vega-embed\": \"https://cdn.jsdelivr.net/npm/vega-embed@6?noext\",\n",
       "    };\n",
       "\n",
       "    function maybeLoadScript(lib, version) {\n",
       "      var key = `${lib.replace(\"-\", \"\")}_version`;\n",
       "      return (VEGA_DEBUG[key] == version) ?\n",
       "        Promise.resolve(paths[lib]) :\n",
       "        new Promise(function(resolve, reject) {\n",
       "          var s = document.createElement('script');\n",
       "          document.getElementsByTagName(\"head\")[0].appendChild(s);\n",
       "          s.async = true;\n",
       "          s.onload = () => {\n",
       "            VEGA_DEBUG[key] = version;\n",
       "            return resolve(paths[lib]);\n",
       "          };\n",
       "          s.onerror = () => reject(`Error loading script: ${paths[lib]}`);\n",
       "          s.src = paths[lib];\n",
       "        });\n",
       "    }\n",
       "\n",
       "    function showError(err) {\n",
       "      outputDiv.innerHTML = `<div class=\"error\" style=\"color:red;\">${err}</div>`;\n",
       "      throw err;\n",
       "    }\n",
       "\n",
       "    function displayChart(vegaEmbed) {\n",
       "      vegaEmbed(outputDiv, spec, embedOpt)\n",
       "        .catch(err => showError(`Javascript Error: ${err.message}<br>This usually means there's a typo in your chart specification. See the javascript console for the full traceback.`));\n",
       "    }\n",
       "\n",
       "    if(typeof define === \"function\" && define.amd) {\n",
       "      requirejs.config({paths});\n",
       "      let deps = [\"vega-embed\"];\n",
       "      require(deps, displayChart, err => showError(`Error loading script: ${err.message}`));\n",
       "    } else {\n",
       "      maybeLoadScript(\"vega\", \"5\")\n",
       "        .then(() => maybeLoadScript(\"vega-lite\", \"5.20.1\"))\n",
       "        .then(() => maybeLoadScript(\"vega-embed\", \"6\"))\n",
       "        .catch(showError)\n",
       "        .then(() => displayChart(vegaEmbed));\n",
       "    }\n",
       "  })({\"config\": {\"view\": {\"continuousWidth\": 300, \"continuousHeight\": 300}}, \"data\": {\"name\": \"data-70ce1f9e24cfc1296fdb703f5eaba4a1\"}, \"mark\": {\"type\": \"bar\"}, \"encoding\": {\"tooltip\": [{\"field\": \"Special_Handling\", \"type\": \"nominal\"}, {\"field\": \"Delay_Rate_Percent\", \"format\": \".1f\", \"type\": \"quantitative\"}], \"x\": {\"field\": \"Special_Handling\", \"sort\": \"-y\", \"type\": \"nominal\"}, \"y\": {\"field\": \"Delay_Rate_Percent\", \"title\": \"Delay Rate (%)\", \"type\": \"quantitative\"}}, \"height\": 250, \"params\": [{\"name\": \"param_21\", \"select\": {\"type\": \"interval\", \"encodings\": [\"x\", \"y\"]}, \"bind\": \"scales\"}], \"title\": \"Delay Rate by Special Handling\", \"width\": 400, \"$schema\": \"https://vega.github.io/schema/vega-lite/v5.20.1.json\", \"datasets\": {\"data-70ce1f9e24cfc1296fdb703f5eaba4a1\": [{\"Special_Handling\": \"Fragile\", \"Delay_Rate\": 0.3888888888888889, \"Delay_Rate_Percent\": 38.88888888888889}, {\"Special_Handling\": \"Hazmat\", \"Delay_Rate\": 0.7142857142857143, \"Delay_Rate_Percent\": 71.42857142857143}, {\"Special_Handling\": \"Normal Handling\", \"Delay_Rate\": 0.4608695652173913, \"Delay_Rate_Percent\": 46.08695652173913}, {\"Special_Handling\": \"Temperature_Controlled\", \"Delay_Rate\": 0.5, \"Delay_Rate_Percent\": 50.0}]}}, {\"mode\": \"vega-lite\"});\n",
       "</script>"
      ],
      "text/plain": [
       "alt.Chart(...)"
      ]
     },
     "execution_count": 183,
     "metadata": {},
     "output_type": "execute_result"
    }
   ],
   "source": [
    "handling_chart"
   ]
  },
  {
   "cell_type": "code",
   "execution_count": 196,
   "id": "9a472ff5-ca07-425c-9964-3c753f070a66",
   "metadata": {},
   "outputs": [],
   "source": [
    "route_traffic_df = merged_df.groupby('Route')['Traffic_Delay_Minutes'].mean().reset_index()\n",
    "route_traffic_df.columns = ['Route', 'Average_Traffic_Delay_Minutes']"
   ]
  },
  {
   "cell_type": "code",
   "execution_count": 197,
   "id": "8a652ce6-c971-4b4a-a173-e94f61b6f935",
   "metadata": {},
   "outputs": [],
   "source": [
    "route_traffic_df = route_traffic_df.sort_values(by='Average_Traffic_Delay_Minutes', ascending=False)"
   ]
  },
  {
   "cell_type": "code",
   "execution_count": 200,
   "id": "70679c84-8add-4310-ac52-c9d1d920f6cb",
   "metadata": {},
   "outputs": [],
   "source": [
    "#Top 10 worst routes\n",
    "top_10_routes_df = route_traffic_df.head(10)"
   ]
  },
  {
   "cell_type": "code",
   "execution_count": 201,
   "id": "a638d1b9-07c0-4eb7-aa73-3d11e8d542e0",
   "metadata": {},
   "outputs": [
    {
     "name": "stdout",
     "output_type": "stream",
     "text": [
      "Top 10 Routes with Highest Average Traffic Delays:\n",
      "\n",
      "| Route               |   Average_Traffic_Delay_Minutes |\n",
      "|:--------------------|--------------------------------:|\n",
      "| Mumbai-Chennai      |                           114.0 |\n",
      "| Pune-Mumbai         |                           108.0 |\n",
      "| Hyderabad-Chennai   |                           106.0 |\n",
      "| Hyderabad-Bangalore |                           102.0 |\n",
      "| Pune-Hyderabad      |                           101.0 |\n",
      "| Bangalore-Chennai   |                           100.0 |\n",
      "| Chennai-Kolkata     |                            83.3 |\n",
      "| Mumbai-Kolkata      |                            82.5 |\n",
      "| Mumbai-Pune         |                            81.8 |\n",
      "| Ahmedabad-Bangalore |                            81.0 |\n"
     ]
    }
   ],
   "source": [
    "print(\"Top 10 Routes with Highest Average Traffic Delays:\\n\")\n",
    "print(top_10_routes_df.to_markdown(index=False, floatfmt='.1f'))"
   ]
  },
  {
   "cell_type": "code",
   "execution_count": null,
   "id": "0a68d43d-533e-405a-a06a-46759f94473c",
   "metadata": {},
   "outputs": [],
   "source": []
  },
  {
   "cell_type": "code",
   "execution_count": 184,
   "id": "e4748423-3e72-4fc7-bdfa-56f128ea4ebf",
   "metadata": {},
   "outputs": [],
   "source": [
    "merged_df['Current_Stock_Units'] = merged_df['Current_Stock_Units'].fillna(0)\n",
    "merged_df['Reorder_Level'] = merged_df['Reorder_Level'].fillna(0)"
   ]
  },
  {
   "cell_type": "code",
   "execution_count": 185,
   "id": "ade4643e-643e-4873-9dd5-bebeef4e38b6",
   "metadata": {},
   "outputs": [],
   "source": [
    "merged_df['Stock_vs_Reorder'] = merged_df['Current_Stock_Units'] - merged_df['Reorder_Level']"
   ]
  },
  {
   "cell_type": "code",
   "execution_count": 186,
   "id": "18507fa3-028a-40f9-aff0-acc59550455d",
   "metadata": {},
   "outputs": [],
   "source": [
    "merged_df['Is_Below_Reorder'] = (merged_df['Stock_vs_Reorder'] < 0).astype(int)"
   ]
  },
  {
   "cell_type": "code",
   "execution_count": 187,
   "id": "a5efa313-2454-4389-b540-d17ca1e88926",
   "metadata": {},
   "outputs": [],
   "source": [
    "stock_delay_df = merged_df.groupby('Is_Below_Reorder')['is_delayed'].mean().reset_index()"
   ]
  },
  {
   "cell_type": "code",
   "execution_count": 188,
   "id": "eb1e67c4-9f38-4dc3-8c62-f93f6fcb21b7",
   "metadata": {},
   "outputs": [],
   "source": [
    "stock_delay_df = stock_delay_df.rename(columns={'is_delayed': 'Delay_Rate', 'Is_Below_Reorder': 'Stock_Below_Reorder_Level'})\n",
    "stock_delay_df['Delay_Rate_Percent'] = stock_delay_df['Delay_Rate'] * 100"
   ]
  },
  {
   "cell_type": "code",
   "execution_count": 189,
   "id": "7df1f962-1d61-4119-88bb-402a7c7f789f",
   "metadata": {},
   "outputs": [],
   "source": [
    "stock_delay_df['Stock_Below_Reorder_Level'] = stock_delay_df['Stock_Below_Reorder_Level'].map({0: 'No (Stock OK)', 1: 'Yes (Stock Low)'})"
   ]
  },
  {
   "cell_type": "code",
   "execution_count": 190,
   "id": "8df43b5e-eb30-454f-9330-ddd9fab1adbc",
   "metadata": {},
   "outputs": [
    {
     "name": "stdout",
     "output_type": "stream",
     "text": [
      "| Stock_Below_Reorder_Level   |   Delay_Rate |   Delay_Rate_Percent |\n",
      "|:----------------------------|-------------:|---------------------:|\n",
      "| No (Stock OK)               |         0.49 |                48.74 |\n",
      "| Yes (Stock Low)             |         0.39 |                38.71 |\n"
     ]
    }
   ],
   "source": [
    "print(stock_delay_df.to_markdown(index=False, floatfmt=\".2f\"))"
   ]
  },
  {
   "cell_type": "code",
   "execution_count": 191,
   "id": "66de1db3-7024-425e-aac0-e5bb1585d630",
   "metadata": {},
   "outputs": [],
   "source": [
    "stock_chart = alt.Chart(stock_delay_df).mark_bar().encode(\n",
    "    # Use our readable labels on the x-axis, sort by delay rate\n",
    "    x=alt.X('Stock_Below_Reorder_Level', sort='-y'),\n",
    "    # Use 'Delay_Rate_Percent' on the y-axis\n",
    "    y=alt.Y('Delay_Rate_Percent', title='Delay Rate (%)'),\n",
    "    # Add tooltips to show details on hover\n",
    "    tooltip=['Stock_Below_Reorder_Level', alt.Tooltip('Delay_Rate_Percent', format='.1f')]\n",
    ").properties(\n",
    "    title='Delay Rate for Orders with Low Inventory',\n",
    "    width = 400, height = 250\n",
    ").interactive()"
   ]
  },
  {
   "cell_type": "code",
   "execution_count": 192,
   "id": "519b0dc3-ef05-49a6-9d6c-704aa893c886",
   "metadata": {},
   "outputs": [
    {
     "data": {
      "text/html": [
       "\n",
       "<style>\n",
       "  #altair-viz-e45ef7812863455a9d4113b91c4e9da8.vega-embed {\n",
       "    width: 100%;\n",
       "    display: flex;\n",
       "  }\n",
       "\n",
       "  #altair-viz-e45ef7812863455a9d4113b91c4e9da8.vega-embed details,\n",
       "  #altair-viz-e45ef7812863455a9d4113b91c4e9da8.vega-embed details summary {\n",
       "    position: relative;\n",
       "  }\n",
       "</style>\n",
       "<div id=\"altair-viz-e45ef7812863455a9d4113b91c4e9da8\"></div>\n",
       "<script type=\"text/javascript\">\n",
       "  var VEGA_DEBUG = (typeof VEGA_DEBUG == \"undefined\") ? {} : VEGA_DEBUG;\n",
       "  (function(spec, embedOpt){\n",
       "    let outputDiv = document.currentScript.previousElementSibling;\n",
       "    if (outputDiv.id !== \"altair-viz-e45ef7812863455a9d4113b91c4e9da8\") {\n",
       "      outputDiv = document.getElementById(\"altair-viz-e45ef7812863455a9d4113b91c4e9da8\");\n",
       "    }\n",
       "\n",
       "    const paths = {\n",
       "      \"vega\": \"https://cdn.jsdelivr.net/npm/vega@5?noext\",\n",
       "      \"vega-lib\": \"https://cdn.jsdelivr.net/npm/vega-lib?noext\",\n",
       "      \"vega-lite\": \"https://cdn.jsdelivr.net/npm/vega-lite@5.20.1?noext\",\n",
       "      \"vega-embed\": \"https://cdn.jsdelivr.net/npm/vega-embed@6?noext\",\n",
       "    };\n",
       "\n",
       "    function maybeLoadScript(lib, version) {\n",
       "      var key = `${lib.replace(\"-\", \"\")}_version`;\n",
       "      return (VEGA_DEBUG[key] == version) ?\n",
       "        Promise.resolve(paths[lib]) :\n",
       "        new Promise(function(resolve, reject) {\n",
       "          var s = document.createElement('script');\n",
       "          document.getElementsByTagName(\"head\")[0].appendChild(s);\n",
       "          s.async = true;\n",
       "          s.onload = () => {\n",
       "            VEGA_DEBUG[key] = version;\n",
       "            return resolve(paths[lib]);\n",
       "          };\n",
       "          s.onerror = () => reject(`Error loading script: ${paths[lib]}`);\n",
       "          s.src = paths[lib];\n",
       "        });\n",
       "    }\n",
       "\n",
       "    function showError(err) {\n",
       "      outputDiv.innerHTML = `<div class=\"error\" style=\"color:red;\">${err}</div>`;\n",
       "      throw err;\n",
       "    }\n",
       "\n",
       "    function displayChart(vegaEmbed) {\n",
       "      vegaEmbed(outputDiv, spec, embedOpt)\n",
       "        .catch(err => showError(`Javascript Error: ${err.message}<br>This usually means there's a typo in your chart specification. See the javascript console for the full traceback.`));\n",
       "    }\n",
       "\n",
       "    if(typeof define === \"function\" && define.amd) {\n",
       "      requirejs.config({paths});\n",
       "      let deps = [\"vega-embed\"];\n",
       "      require(deps, displayChart, err => showError(`Error loading script: ${err.message}`));\n",
       "    } else {\n",
       "      maybeLoadScript(\"vega\", \"5\")\n",
       "        .then(() => maybeLoadScript(\"vega-lite\", \"5.20.1\"))\n",
       "        .then(() => maybeLoadScript(\"vega-embed\", \"6\"))\n",
       "        .catch(showError)\n",
       "        .then(() => displayChart(vegaEmbed));\n",
       "    }\n",
       "  })({\"config\": {\"view\": {\"continuousWidth\": 300, \"continuousHeight\": 300}}, \"data\": {\"name\": \"data-c452ef3ceaa18eac4e2baeabfc85987a\"}, \"mark\": {\"type\": \"bar\"}, \"encoding\": {\"tooltip\": [{\"field\": \"Stock_Below_Reorder_Level\", \"type\": \"nominal\"}, {\"field\": \"Delay_Rate_Percent\", \"format\": \".1f\", \"type\": \"quantitative\"}], \"x\": {\"field\": \"Stock_Below_Reorder_Level\", \"sort\": \"-y\", \"type\": \"nominal\"}, \"y\": {\"field\": \"Delay_Rate_Percent\", \"title\": \"Delay Rate (%)\", \"type\": \"quantitative\"}}, \"height\": 250, \"params\": [{\"name\": \"param_22\", \"select\": {\"type\": \"interval\", \"encodings\": [\"x\", \"y\"]}, \"bind\": \"scales\"}], \"title\": \"Delay Rate for Orders with Low Inventory\", \"width\": 400, \"$schema\": \"https://vega.github.io/schema/vega-lite/v5.20.1.json\", \"datasets\": {\"data-c452ef3ceaa18eac4e2baeabfc85987a\": [{\"Stock_Below_Reorder_Level\": \"No (Stock OK)\", \"Delay_Rate\": 0.48739495798319327, \"Delay_Rate_Percent\": 48.739495798319325}, {\"Stock_Below_Reorder_Level\": \"Yes (Stock Low)\", \"Delay_Rate\": 0.3870967741935484, \"Delay_Rate_Percent\": 38.70967741935484}]}}, {\"mode\": \"vega-lite\"});\n",
       "</script>"
      ],
      "text/plain": [
       "alt.Chart(...)"
      ]
     },
     "execution_count": 192,
     "metadata": {},
     "output_type": "execute_result"
    }
   ],
   "source": [
    "stock_chart"
   ]
  },
  {
   "cell_type": "code",
   "execution_count": null,
   "id": "1a25fe51-55ed-4fbe-abc8-c05e1bf67997",
   "metadata": {},
   "outputs": [],
   "source": []
  }
 ],
 "metadata": {
  "kernelspec": {
   "display_name": "Python 3 (ipykernel)",
   "language": "python",
   "name": "python3"
  },
  "language_info": {
   "codemirror_mode": {
    "name": "ipython",
    "version": 3
   },
   "file_extension": ".py",
   "mimetype": "text/x-python",
   "name": "python",
   "nbconvert_exporter": "python",
   "pygments_lexer": "ipython3",
   "version": "3.13.5"
  }
 },
 "nbformat": 4,
 "nbformat_minor": 5
}
